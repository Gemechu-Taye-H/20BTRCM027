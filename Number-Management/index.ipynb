{
 "cells": [
  {
   "cell_type": "code",
   "execution_count": 1,
   "metadata": {},
   "outputs": [
    {
     "name": "stdout",
     "output_type": "stream",
     "text": [
      " * Serving Flask app '__main__'\n",
      " * Debug mode: off\n"
     ]
    },
    {
     "name": "stderr",
     "output_type": "stream",
     "text": [
      "\u001b[31m\u001b[1mWARNING: This is a development server. Do not use it in a production deployment. Use a production WSGI server instead.\u001b[0m\n",
      " * Running on http://localhost:8008\n",
      "\u001b[33mPress CTRL+C to quit\u001b[0m\n",
      "127.0.0.1 - - [14/Aug/2023 19:15:02] \"\u001b[33mGET / HTTP/1.1\u001b[0m\" 404 -\n",
      "127.0.0.1 - - [14/Aug/2023 19:15:03] \"\u001b[33mGET /favicon.ico HTTP/1.1\u001b[0m\" 404 -\n"
     ]
    }
   ],
   "source": [
    "from flask import Flask, request, jsonify\n",
    "import requests\n",
    "import json\n",
    "import asyncio\n",
    "\n",
    "app = Flask(__name__)\n",
    "\n",
    "async def fetch_numbers(url):\n",
    "    try:\n",
    "        response = await asyncio.wait_for(requests.get(url), timeout=5)\n",
    "        data = response.json()\n",
    "        return data.get(\"numbers\", [])\n",
    "    except (requests.RequestException, json.JSONDecodeError, asyncio.TimeoutError):\n",
    "        return []\n",
    "\n",
    "@app.route('/numbers', methods=['GET'])\n",
    "def get_numbers():\n",
    "    urls = request.args.getlist('url')\n",
    "    loop = asyncio.get_event_loop()\n",
    "    tasks = [fetch_numbers(url) for url in urls]\n",
    "    results = loop.run_until_complete(asyncio.gather(*tasks))\n",
    "    \n",
    "    merged_numbers = list(set(number for sublist in results for number in sublist))\n",
    "    merged_numbers.sort()\n",
    "    \n",
    "    return jsonify({\"numbers\": merged_numbers})\n",
    "\n",
    "if __name__ == '__main__':\n",
    "    app.run(host='localhost', port=8008)\n"
   ]
  }
 ],
 "metadata": {
  "kernelspec": {
   "display_name": "Python 3",
   "language": "python",
   "name": "python3"
  },
  "language_info": {
   "codemirror_mode": {
    "name": "ipython",
    "version": 3
   },
   "file_extension": ".py",
   "mimetype": "text/x-python",
   "name": "python",
   "nbconvert_exporter": "python",
   "pygments_lexer": "ipython3",
   "version": "3.10.7"
  },
  "orig_nbformat": 4,
  "vscode": {
   "interpreter": {
    "hash": "aee8b7b246df8f9039afb4144a1f6fd8d2ca17a180786b69acc140d282b71a49"
   }
  }
 },
 "nbformat": 4,
 "nbformat_minor": 2
}
